{
 "cells": [
  {
   "cell_type": "code",
   "execution_count": null,
   "metadata": {},
   "outputs": [],
   "source": [
    "# !pip install mistralai"
   ]
  },
  {
   "cell_type": "code",
   "execution_count": 2,
   "metadata": {},
   "outputs": [],
   "source": [
    "import os\n",
    "from mistralai import Mistral"
   ]
  },
  {
   "cell_type": "code",
   "execution_count": null,
   "metadata": {},
   "outputs": [],
   "source": [
    "api_key = os.environ[\"replace_it\"]\n",
    "client = Mistral(api_key=api_key)\n",
    "\n",
    "ocr_response = client.ocr.process(\n",
    "    model=\"mistral-ocr-latest\",\n",
    "    document={\n",
    "        \"type\": \"document_url\",\n",
    "        \"document_url\": \"https://arxiv.org/pdf/2201.04234\"\n",
    "    },\n",
    "    include_image_base64=True\n",
    ")"
   ]
  },
  {
   "cell_type": "code",
   "execution_count": null,
   "metadata": {},
   "outputs": [],
   "source": [
    "import os\n",
    "from mistralai import Mistral\n",
    "\n",
    "api_key = \"replace_it\"  # Directly use the API key as a string\n",
    "client = Mistral(api_key=api_key)\n",
    "\n",
    "ocr_response = client.ocr.process(\n",
    "    model=\"mistral-ocr-latest\",\n",
    "    document={\n",
    "        \"type\": \"image_url\",\n",
    "        \"image_url\": \"https://raw.githubusercontent.com/mistralai/cookbook/refs/heads/main/mistral/ocr/receipt.png\"\n",
    "    }\n",
    ")"
   ]
  },
  {
   "cell_type": "code",
   "execution_count": null,
   "metadata": {},
   "outputs": [],
   "source": [
    "api_key = \"replace_it\"  # Directly use the API key as a string\n",
    "client = Mistral(api_key=api_key)\n",
    "\n",
    "ocr_response = client.ocr.process(\n",
    "    model=\"mistral-ocr-latest\",\n",
    "    document={\n",
    "        \"type\": \"document_url\",\n",
    "        \"document_url\": \"f:\\OneDrive - Green Energy\\Sakib\\Germany\\Fredrik\\HF_NER_Med\\data\\reports\\Neue Laborbilder\\2.jpg\"\n",
    "    },\n",
    "    include_image_base64=True\n",
    ")"
   ]
  },
  {
   "cell_type": "code",
   "execution_count": 8,
   "metadata": {},
   "outputs": [
    {
     "name": "stdout",
     "output_type": "stream",
     "text": [
      "pages=[OCRPageObject(index=0, markdown='# PLACE FACE UP ON DASH <br> CITY OF PALO ALTO <br> NOT VALID FOR ONSTREET PARKING \\n\\nExpiration Date/Time 11:59 PM\\n\\nAUG 19, 2024\\n\\nPurchase Date/Time: 01:34pm Aug 19, 2024\\nTotal Due: $\\\\$ 15.00$\\nRate: Daily Parking\\nTotal Paid: $\\\\$ 15.00$\\nPmt Type: CC (Swipe)\\nTicket \\\\#: 00005883\\nS/N \\\\#: 520117260957\\nSetting: Permit Machines\\nMach Name: Civic Center\\n\\\\#^^^^-1224, Visa\\nDISPLAY FACE UP ON DASH\\n\\nPERMIT EXPIRES\\nAT MIDNIGHT', images=[], dimensions=OCRPageDimensions(dpi=200, height=3210, width=1806))] model='mistral-ocr-2503-completion' usage_info=OCRUsageInfo(pages_processed=1, doc_size_bytes=3110191)\n"
     ]
    }
   ],
   "source": [
    "print(ocr_response)"
   ]
  },
  {
   "cell_type": "code",
   "execution_count": null,
   "metadata": {},
   "outputs": [
    {
     "name": "stdout",
     "output_type": "stream",
     "text": [
      "Full response object:\n",
      "id='0cc8d24087c049bab5c9b88b3896eaf6' object='chat.completion' model='mistral-small-latest' usage=UsageInfo(prompt_tokens=13717, completion_tokens=56, total_tokens=13773) created=1742270088 choices=[ChatCompletionChoice(index=0, message=AssistantMessage(content='The last sentence in the document is:\\n\\n\"Zaremba, W., Sutskever, I., and Vinyals, O. Recurrent neural network regularization. arXiv:1409.2329, 2014.\"', tool_calls=None, prefix=False, role='assistant'), finish_reason='stop')]\n",
      "\n",
      "Response content:\n",
      "The last sentence in the document is:\n",
      "\n",
      "\"Zaremba, W., Sutskever, I., and Vinyals, O. Recurrent neural network regularization. arXiv:1409.2329, 2014.\"\n"
     ]
    }
   ],
   "source": [
    "import os\n",
    "from mistralai import Mistral\n",
    "\n",
    "# Retrieve the API key from environment variables\n",
    "api_key = \"replace_it\"  # Directly use the API key as a string\n",
    "client = Mistral(api_key=api_key)\n",
    "\n",
    "# Specify model\n",
    "model = \"mistral-small-latest\"\n",
    "\n",
    "# Define the messages for the chat\n",
    "messages = [\n",
    "    {\n",
    "        \"role\": \"user\",\n",
    "        \"content\": [\n",
    "            {\n",
    "                \"type\": \"text\",\n",
    "                \"text\": \"what is the last sentence in the document\"\n",
    "            },\n",
    "            {\n",
    "                \"type\": \"document_url\",\n",
    "                \"document_url\": \"https://arxiv.org/pdf/1805.04770\"\n",
    "            }\n",
    "        ]\n",
    "    }\n",
    "]\n",
    "\n",
    "# Get the chat response\n",
    "chat_response = client.chat.complete(\n",
    "    model=model,\n",
    "    messages=messages\n",
    ")\n",
    "\n",
    "# Print the full response object for debugging\n",
    "print(\"Full response object:\")\n",
    "print(chat_response)\n",
    "\n",
    "# Print the content of the response\n",
    "if chat_response.choices:\n",
    "    print(\"\\nResponse content:\")\n",
    "    print(chat_response.choices[0].message.content)\n",
    "else:\n",
    "    print(\"No response content found.\")"
   ]
  },
  {
   "cell_type": "code",
   "execution_count": null,
   "metadata": {},
   "outputs": [],
   "source": []
  }
 ],
 "metadata": {
  "kernelspec": {
   "display_name": "Python 3",
   "language": "python",
   "name": "python3"
  },
  "language_info": {
   "codemirror_mode": {
    "name": "ipython",
    "version": 3
   },
   "file_extension": ".py",
   "mimetype": "text/x-python",
   "name": "python",
   "nbconvert_exporter": "python",
   "pygments_lexer": "ipython3",
   "version": "3.10.11"
  }
 },
 "nbformat": 4,
 "nbformat_minor": 2
}
