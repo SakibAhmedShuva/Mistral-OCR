{
 "cells": [
  {
   "cell_type": "code",
   "execution_count": null,
   "metadata": {},
   "outputs": [],
   "source": [
    "# !pip install mistralai"
   ]
  },
  {
   "cell_type": "code",
   "execution_count": 2,
   "metadata": {},
   "outputs": [],
   "source": [
    "import os\n",
    "from mistralai import Mistral"
   ]
  },
  {
   "cell_type": "code",
   "execution_count": 3,
   "metadata": {},
   "outputs": [
    {
     "ename": "KeyError",
     "evalue": "'3noZ2cHTYFmxsIlfjKtROttOT7ooEhO2'",
     "output_type": "error",
     "traceback": [
      "\u001b[1;31m---------------------------------------------------------------------------\u001b[0m",
      "\u001b[1;31mKeyError\u001b[0m                                  Traceback (most recent call last)",
      "Cell \u001b[1;32mIn[3], line 1\u001b[0m\n\u001b[1;32m----> 1\u001b[0m api_key \u001b[38;5;241m=\u001b[39m \u001b[43mos\u001b[49m\u001b[38;5;241;43m.\u001b[39;49m\u001b[43menviron\u001b[49m\u001b[43m[\u001b[49m\u001b[38;5;124;43m\"\u001b[39;49m\u001b[38;5;124;43m3noZ2cHTYFmxsIlfjKtROttOT7ooEhO2\u001b[39;49m\u001b[38;5;124;43m\"\u001b[39;49m\u001b[43m]\u001b[49m\n\u001b[0;32m      2\u001b[0m client \u001b[38;5;241m=\u001b[39m Mistral(api_key\u001b[38;5;241m=\u001b[39mapi_key)\n\u001b[0;32m      4\u001b[0m ocr_response \u001b[38;5;241m=\u001b[39m client\u001b[38;5;241m.\u001b[39mocr\u001b[38;5;241m.\u001b[39mprocess(\n\u001b[0;32m      5\u001b[0m     model\u001b[38;5;241m=\u001b[39m\u001b[38;5;124m\"\u001b[39m\u001b[38;5;124mmistral-ocr-latest\u001b[39m\u001b[38;5;124m\"\u001b[39m,\n\u001b[0;32m      6\u001b[0m     document\u001b[38;5;241m=\u001b[39m{\n\u001b[1;32m   (...)\u001b[0m\n\u001b[0;32m     10\u001b[0m     include_image_base64\u001b[38;5;241m=\u001b[39m\u001b[38;5;28;01mTrue\u001b[39;00m\n\u001b[0;32m     11\u001b[0m )\n",
      "File \u001b[1;32md:\\Python\\Python310\\lib\\os.py:680\u001b[0m, in \u001b[0;36m_Environ.__getitem__\u001b[1;34m(self, key)\u001b[0m\n\u001b[0;32m    677\u001b[0m     value \u001b[38;5;241m=\u001b[39m \u001b[38;5;28mself\u001b[39m\u001b[38;5;241m.\u001b[39m_data[\u001b[38;5;28mself\u001b[39m\u001b[38;5;241m.\u001b[39mencodekey(key)]\n\u001b[0;32m    678\u001b[0m \u001b[38;5;28;01mexcept\u001b[39;00m \u001b[38;5;167;01mKeyError\u001b[39;00m:\n\u001b[0;32m    679\u001b[0m     \u001b[38;5;66;03m# raise KeyError with the original key value\u001b[39;00m\n\u001b[1;32m--> 680\u001b[0m     \u001b[38;5;28;01mraise\u001b[39;00m \u001b[38;5;167;01mKeyError\u001b[39;00m(key) \u001b[38;5;28;01mfrom\u001b[39;00m \u001b[38;5;28;01mNone\u001b[39;00m\n\u001b[0;32m    681\u001b[0m \u001b[38;5;28;01mreturn\u001b[39;00m \u001b[38;5;28mself\u001b[39m\u001b[38;5;241m.\u001b[39mdecodevalue(value)\n",
      "\u001b[1;31mKeyError\u001b[0m: '3noZ2cHTYFmxsIlfjKtROttOT7ooEhO2'"
     ]
    }
   ],
   "source": [
    "api_key = os.environ[\"3noZ2cHTYFmxsIlfjKtROttOT7ooEhO2\"]\n",
    "client = Mistral(api_key=api_key)\n",
    "\n",
    "ocr_response = client.ocr.process(\n",
    "    model=\"mistral-ocr-latest\",\n",
    "    document={\n",
    "        \"type\": \"document_url\",\n",
    "        \"document_url\": \"https://arxiv.org/pdf/2201.04234\"\n",
    "    },\n",
    "    include_image_base64=True\n",
    ")"
   ]
  },
  {
   "cell_type": "code",
   "execution_count": 7,
   "metadata": {},
   "outputs": [],
   "source": [
    "import os\n",
    "from mistralai import Mistral\n",
    "\n",
    "api_key = \"3noZ2cHTYFmxsIlfjKtROttOT7ooEhO2\"  # Directly use the API key as a string\n",
    "client = Mistral(api_key=api_key)\n",
    "\n",
    "ocr_response = client.ocr.process(\n",
    "    model=\"mistral-ocr-latest\",\n",
    "    document={\n",
    "        \"type\": \"image_url\",\n",
    "        \"image_url\": \"https://raw.githubusercontent.com/mistralai/cookbook/refs/heads/main/mistral/ocr/receipt.png\"\n",
    "    }\n",
    ")"
   ]
  },
  {
   "cell_type": "code",
   "execution_count": null,
   "metadata": {},
   "outputs": [
    {
     "ename": "HTTPValidationError",
     "evalue": "{\"detail\":[{\"loc\":[\"body\"],\"msg\":\"Value error, Document content must be a URL (starting with 'https')Received: f:\\\\OneDrive - Green Energy\\\\Sakib\\\\Germany\\\\Fredrik\\\\HF_NER_Med\\\\data\\\\reports\\\\Neue Laborbilder\\\\2.jpg\",\"type\":\"value_error\"}]}",
     "output_type": "error",
     "traceback": [
      "\u001b[1;31m---------------------------------------------------------------------------\u001b[0m",
      "\u001b[1;31mHTTPValidationError\u001b[0m                       Traceback (most recent call last)",
      "Cell \u001b[1;32mIn[9], line 4\u001b[0m\n\u001b[0;32m      1\u001b[0m api_key \u001b[38;5;241m=\u001b[39m \u001b[38;5;124m\"\u001b[39m\u001b[38;5;124m3noZ2cHTYFmxsIlfjKtROttOT7ooEhO2\u001b[39m\u001b[38;5;124m\"\u001b[39m  \u001b[38;5;66;03m# Directly use the API key as a string\u001b[39;00m\n\u001b[0;32m      2\u001b[0m client \u001b[38;5;241m=\u001b[39m Mistral(api_key\u001b[38;5;241m=\u001b[39mapi_key)\n\u001b[1;32m----> 4\u001b[0m ocr_response \u001b[38;5;241m=\u001b[39m \u001b[43mclient\u001b[49m\u001b[38;5;241;43m.\u001b[39;49m\u001b[43mocr\u001b[49m\u001b[38;5;241;43m.\u001b[39;49m\u001b[43mprocess\u001b[49m\u001b[43m(\u001b[49m\n\u001b[0;32m      5\u001b[0m \u001b[43m    \u001b[49m\u001b[43mmodel\u001b[49m\u001b[38;5;241;43m=\u001b[39;49m\u001b[38;5;124;43m\"\u001b[39;49m\u001b[38;5;124;43mmistral-ocr-latest\u001b[39;49m\u001b[38;5;124;43m\"\u001b[39;49m\u001b[43m,\u001b[49m\n\u001b[0;32m      6\u001b[0m \u001b[43m    \u001b[49m\u001b[43mdocument\u001b[49m\u001b[38;5;241;43m=\u001b[39;49m\u001b[43m{\u001b[49m\n\u001b[0;32m      7\u001b[0m \u001b[43m        \u001b[49m\u001b[38;5;124;43m\"\u001b[39;49m\u001b[38;5;124;43mtype\u001b[39;49m\u001b[38;5;124;43m\"\u001b[39;49m\u001b[43m:\u001b[49m\u001b[43m \u001b[49m\u001b[38;5;124;43m\"\u001b[39;49m\u001b[38;5;124;43mdocument_url\u001b[39;49m\u001b[38;5;124;43m\"\u001b[39;49m\u001b[43m,\u001b[49m\n\u001b[0;32m      8\u001b[0m \u001b[43m        \u001b[49m\u001b[38;5;124;43m\"\u001b[39;49m\u001b[38;5;124;43mdocument_url\u001b[39;49m\u001b[38;5;124;43m\"\u001b[39;49m\u001b[43m:\u001b[49m\u001b[43m \u001b[49m\u001b[38;5;124;43mr\u001b[39;49m\u001b[38;5;124;43m\"\u001b[39;49m\u001b[38;5;124;43mf:\u001b[39;49m\u001b[38;5;124;43m\\\u001b[39;49m\u001b[38;5;124;43mOneDrive - Green Energy\u001b[39;49m\u001b[38;5;124;43m\\\u001b[39;49m\u001b[38;5;124;43mSakib\u001b[39;49m\u001b[38;5;124;43m\\\u001b[39;49m\u001b[38;5;124;43mGermany\u001b[39;49m\u001b[38;5;124;43m\\\u001b[39;49m\u001b[38;5;124;43mFredrik\u001b[39;49m\u001b[38;5;124;43m\\\u001b[39;49m\u001b[38;5;124;43mHF_NER_Med\u001b[39;49m\u001b[38;5;124;43m\\\u001b[39;49m\u001b[38;5;124;43mdata\u001b[39;49m\u001b[38;5;124;43m\\\u001b[39;49m\u001b[38;5;124;43mreports\u001b[39;49m\u001b[38;5;124;43m\\\u001b[39;49m\u001b[38;5;124;43mNeue Laborbilder\u001b[39;49m\u001b[38;5;124;43m\\\u001b[39;49m\u001b[38;5;124;43m2.jpg\u001b[39;49m\u001b[38;5;124;43m\"\u001b[39;49m\n\u001b[0;32m      9\u001b[0m \u001b[43m    \u001b[49m\u001b[43m}\u001b[49m\u001b[43m,\u001b[49m\n\u001b[0;32m     10\u001b[0m \u001b[43m    \u001b[49m\u001b[43minclude_image_base64\u001b[49m\u001b[38;5;241;43m=\u001b[39;49m\u001b[38;5;28;43;01mTrue\u001b[39;49;00m\n\u001b[0;32m     11\u001b[0m \u001b[43m)\u001b[49m\n",
      "File \u001b[1;32mc:\\Users\\Sakib\\AppData\\Local\\Programs\\Python\\Python310\\lib\\site-packages\\mistralai\\ocr.py:106\u001b[0m, in \u001b[0;36mOcr.process\u001b[1;34m(self, model, document, id, pages, include_image_base64, image_limit, image_min_size, retries, server_url, timeout_ms, http_headers)\u001b[0m\n\u001b[0;32m    104\u001b[0m \u001b[38;5;28;01mif\u001b[39;00m utils\u001b[38;5;241m.\u001b[39mmatch_response(http_res, \u001b[38;5;124m\"\u001b[39m\u001b[38;5;124m422\u001b[39m\u001b[38;5;124m\"\u001b[39m, \u001b[38;5;124m\"\u001b[39m\u001b[38;5;124mapplication/json\u001b[39m\u001b[38;5;124m\"\u001b[39m):\n\u001b[0;32m    105\u001b[0m     data \u001b[38;5;241m=\u001b[39m utils\u001b[38;5;241m.\u001b[39munmarshal_json(http_res\u001b[38;5;241m.\u001b[39mtext, models\u001b[38;5;241m.\u001b[39mHTTPValidationErrorData)\n\u001b[1;32m--> 106\u001b[0m     \u001b[38;5;28;01mraise\u001b[39;00m models\u001b[38;5;241m.\u001b[39mHTTPValidationError(data\u001b[38;5;241m=\u001b[39mdata)\n\u001b[0;32m    107\u001b[0m \u001b[38;5;28;01mif\u001b[39;00m utils\u001b[38;5;241m.\u001b[39mmatch_response(http_res, \u001b[38;5;124m\"\u001b[39m\u001b[38;5;124m4XX\u001b[39m\u001b[38;5;124m\"\u001b[39m, \u001b[38;5;124m\"\u001b[39m\u001b[38;5;124m*\u001b[39m\u001b[38;5;124m\"\u001b[39m):\n\u001b[0;32m    108\u001b[0m     http_res_text \u001b[38;5;241m=\u001b[39m utils\u001b[38;5;241m.\u001b[39mstream_to_text(http_res)\n",
      "\u001b[1;31mHTTPValidationError\u001b[0m: {\"detail\":[{\"loc\":[\"body\"],\"msg\":\"Value error, Document content must be a URL (starting with 'https')Received: f:\\\\OneDrive - Green Energy\\\\Sakib\\\\Germany\\\\Fredrik\\\\HF_NER_Med\\\\data\\\\reports\\\\Neue Laborbilder\\\\2.jpg\",\"type\":\"value_error\"}]}"
     ]
    }
   ],
   "source": [
    "api_key = \"3noZ2cHTYFmxsIlfjKtROttOT7ooEhO2\"  # Directly use the API key as a string\n",
    "client = Mistral(api_key=api_key)\n",
    "\n",
    "ocr_response = client.ocr.process(\n",
    "    model=\"mistral-ocr-latest\",\n",
    "    document={\n",
    "        \"type\": \"document_url\",\n",
    "        \"document_url\": \"f:\\OneDrive - Green Energy\\Sakib\\Germany\\Fredrik\\HF_NER_Med\\data\\reports\\Neue Laborbilder\\2.jpg\"\n",
    "    },\n",
    "    include_image_base64=True\n",
    ")"
   ]
  },
  {
   "cell_type": "code",
   "execution_count": 8,
   "metadata": {},
   "outputs": [
    {
     "name": "stdout",
     "output_type": "stream",
     "text": [
      "pages=[OCRPageObject(index=0, markdown='# PLACE FACE UP ON DASH <br> CITY OF PALO ALTO <br> NOT VALID FOR ONSTREET PARKING \\n\\nExpiration Date/Time 11:59 PM\\n\\nAUG 19, 2024\\n\\nPurchase Date/Time: 01:34pm Aug 19, 2024\\nTotal Due: $\\\\$ 15.00$\\nRate: Daily Parking\\nTotal Paid: $\\\\$ 15.00$\\nPmt Type: CC (Swipe)\\nTicket \\\\#: 00005883\\nS/N \\\\#: 520117260957\\nSetting: Permit Machines\\nMach Name: Civic Center\\n\\\\#^^^^-1224, Visa\\nDISPLAY FACE UP ON DASH\\n\\nPERMIT EXPIRES\\nAT MIDNIGHT', images=[], dimensions=OCRPageDimensions(dpi=200, height=3210, width=1806))] model='mistral-ocr-2503-completion' usage_info=OCRUsageInfo(pages_processed=1, doc_size_bytes=3110191)\n"
     ]
    }
   ],
   "source": [
    "print(ocr_response)"
   ]
  },
  {
   "cell_type": "code",
   "execution_count": 12,
   "metadata": {},
   "outputs": [
    {
     "name": "stdout",
     "output_type": "stream",
     "text": [
      "Full response object:\n",
      "id='0cc8d24087c049bab5c9b88b3896eaf6' object='chat.completion' model='mistral-small-latest' usage=UsageInfo(prompt_tokens=13717, completion_tokens=56, total_tokens=13773) created=1742270088 choices=[ChatCompletionChoice(index=0, message=AssistantMessage(content='The last sentence in the document is:\\n\\n\"Zaremba, W., Sutskever, I., and Vinyals, O. Recurrent neural network regularization. arXiv:1409.2329, 2014.\"', tool_calls=None, prefix=False, role='assistant'), finish_reason='stop')]\n",
      "\n",
      "Response content:\n",
      "The last sentence in the document is:\n",
      "\n",
      "\"Zaremba, W., Sutskever, I., and Vinyals, O. Recurrent neural network regularization. arXiv:1409.2329, 2014.\"\n"
     ]
    }
   ],
   "source": [
    "import os\n",
    "from mistralai import Mistral\n",
    "\n",
    "# Retrieve the API key from environment variables\n",
    "api_key = \"3noZ2cHTYFmxsIlfjKtROttOT7ooEhO2\"  # Directly use the API key as a string\n",
    "client = Mistral(api_key=api_key)\n",
    "\n",
    "# Specify model\n",
    "model = \"mistral-small-latest\"\n",
    "\n",
    "# Define the messages for the chat\n",
    "messages = [\n",
    "    {\n",
    "        \"role\": \"user\",\n",
    "        \"content\": [\n",
    "            {\n",
    "                \"type\": \"text\",\n",
    "                \"text\": \"what is the last sentence in the document\"\n",
    "            },\n",
    "            {\n",
    "                \"type\": \"document_url\",\n",
    "                \"document_url\": \"https://arxiv.org/pdf/1805.04770\"\n",
    "            }\n",
    "        ]\n",
    "    }\n",
    "]\n",
    "\n",
    "# Get the chat response\n",
    "chat_response = client.chat.complete(\n",
    "    model=model,\n",
    "    messages=messages\n",
    ")\n",
    "\n",
    "# Print the full response object for debugging\n",
    "print(\"Full response object:\")\n",
    "print(chat_response)\n",
    "\n",
    "# Print the content of the response\n",
    "if chat_response.choices:\n",
    "    print(\"\\nResponse content:\")\n",
    "    print(chat_response.choices[0].message.content)\n",
    "else:\n",
    "    print(\"No response content found.\")"
   ]
  },
  {
   "cell_type": "code",
   "execution_count": null,
   "metadata": {},
   "outputs": [],
   "source": []
  }
 ],
 "metadata": {
  "kernelspec": {
   "display_name": "Python 3",
   "language": "python",
   "name": "python3"
  },
  "language_info": {
   "codemirror_mode": {
    "name": "ipython",
    "version": 3
   },
   "file_extension": ".py",
   "mimetype": "text/x-python",
   "name": "python",
   "nbconvert_exporter": "python",
   "pygments_lexer": "ipython3",
   "version": "3.10.11"
  }
 },
 "nbformat": 4,
 "nbformat_minor": 2
}
